{
 "cells": [
  {
   "cell_type": "code",
   "execution_count": 1,
   "metadata": {
    "collapsed": true
   },
   "outputs": [],
   "source": [
    "# Breast cancer detection by feed forward back propogation neural network using back propogation\n",
    "import tensorflow as tf\n",
    "import pandas as pd\n",
    "import numpy as np\n",
    "import matplotlib.pyplot as plt\n",
    "%matplotlib inline"
   ]
  },
  {
   "cell_type": "code",
   "execution_count": 2,
   "metadata": {
    "collapsed": true
   },
   "outputs": [],
   "source": [
    "dataset=pd.read_csv('cancer_detection.csv')"
   ]
  },
  {
   "cell_type": "code",
   "execution_count": 3,
   "metadata": {
    "collapsed": false
   },
   "outputs": [
    {
     "data": {
      "text/plain": [
       "(569, 33)"
      ]
     },
     "execution_count": 3,
     "metadata": {},
     "output_type": "execute_result"
    }
   ],
   "source": [
    "dataset.shape"
   ]
  },
  {
   "cell_type": "code",
   "execution_count": 4,
   "metadata": {
    "collapsed": true
   },
   "outputs": [],
   "source": [
    "dataset=dataset.drop(['id','Unnamed: 32'],axis=1)"
   ]
  },
  {
   "cell_type": "code",
   "execution_count": 5,
   "metadata": {
    "collapsed": false
   },
   "outputs": [
    {
     "data": {
      "text/plain": [
       "(569, 31)"
      ]
     },
     "execution_count": 5,
     "metadata": {},
     "output_type": "execute_result"
    }
   ],
   "source": [
    "dataset.shape"
   ]
  },
  {
   "cell_type": "code",
   "execution_count": 6,
   "metadata": {
    "collapsed": true
   },
   "outputs": [],
   "source": [
    "from sklearn.preprocessing import LabelEncoder\n",
    "encoder=LabelEncoder()\n",
    "dataset['diagnosis']=encoder.fit_transform(dataset['diagnosis'])"
   ]
  },
  {
   "cell_type": "code",
   "execution_count": 7,
   "metadata": {
    "collapsed": false
   },
   "outputs": [
    {
     "data": {
      "text/plain": [
       "0    357\n",
       "1    212\n",
       "Name: diagnosis, dtype: int64"
      ]
     },
     "execution_count": 7,
     "metadata": {},
     "output_type": "execute_result"
    }
   ],
   "source": [
    "dataset['diagnosis'].value_counts() # dataset is balanced"
   ]
  },
  {
   "cell_type": "code",
   "execution_count": 8,
   "metadata": {
    "collapsed": true
   },
   "outputs": [],
   "source": [
    "X=dataset.drop(['diagnosis'],axis=1)\n",
    "Y=dataset['diagnosis']"
   ]
  },
  {
   "cell_type": "code",
   "execution_count": 9,
   "metadata": {
    "collapsed": false
   },
   "outputs": [
    {
     "name": "stdout",
     "output_type": "stream",
     "text": [
      "(455, 30)\n",
      "(455,)\n",
      "(114, 30)\n",
      "(114,)\n"
     ]
    }
   ],
   "source": [
    "from sklearn.model_selection import train_test_split\n",
    "X_train, X_test, y_train, y_test = train_test_split(X, Y, test_size=0.20, random_state=42)\n",
    "print(X_train.shape)\n",
    "print(y_train.shape)\n",
    "print(X_test.shape)\n",
    "print(y_test.shape)"
   ]
  },
  {
   "cell_type": "code",
   "execution_count": 10,
   "metadata": {
    "collapsed": true
   },
   "outputs": [],
   "source": [
    "dummies=pd.get_dummies(dataset['diagnosis'])"
   ]
  },
  {
   "cell_type": "code",
   "execution_count": 11,
   "metadata": {
    "collapsed": true
   },
   "outputs": [],
   "source": [
    "dataset = pd.concat((dataset,dummies),axis=1)"
   ]
  },
  {
   "cell_type": "code",
   "execution_count": 12,
   "metadata": {
    "collapsed": false
   },
   "outputs": [],
   "source": [
    "X=dataset[dataset.columns[1:29]].values\n",
    "y=dataset[dataset.columns[30:32]]"
   ]
  },
  {
   "cell_type": "code",
   "execution_count": 13,
   "metadata": {
    "collapsed": false
   },
   "outputs": [
    {
     "data": {
      "text/plain": [
       "(569, 2)"
      ]
     },
     "execution_count": 13,
     "metadata": {},
     "output_type": "execute_result"
    }
   ],
   "source": [
    "y.shape"
   ]
  },
  {
   "cell_type": "code",
   "execution_count": 14,
   "metadata": {
    "collapsed": false
   },
   "outputs": [
    {
     "name": "stdout",
     "output_type": "stream",
     "text": [
      "(455, 28)\n",
      "(455, 2)\n",
      "(114, 28)\n",
      "(114, 2)\n"
     ]
    }
   ],
   "source": [
    "from sklearn.model_selection import train_test_split\n",
    "X_train, X_test, y_train, y_test = train_test_split(X, y, test_size=0.20, random_state=42)\n",
    "print(X_train.shape)\n",
    "print(y_train.shape)\n",
    "print(X_test.shape)\n",
    "print(y_test.shape)"
   ]
  },
  {
   "cell_type": "markdown",
   "metadata": {},
   "source": [
    "## 3-Layer Neural Network Model"
   ]
  },
  {
   "cell_type": "code",
   "execution_count": 29,
   "metadata": {
    "collapsed": true
   },
   "outputs": [],
   "source": [
    "# Setting the HyperParameters(We will tune this parameters later)\n",
    "training_epochs = 500 # steps require to train the model\n",
    "n_neurons_in_h1 = 20 # First Hidden layer with 10 neurons\n",
    "n_neurons_in_h2 = 20 # Second hidden layer with 10 neurons\n",
    "learning_rate = 0.001 # how fast model is learning"
   ]
  },
  {
   "cell_type": "code",
   "execution_count": 30,
   "metadata": {
    "collapsed": false
   },
   "outputs": [
    {
     "name": "stdout",
     "output_type": "stream",
     "text": [
      "n_dim 28\n"
     ]
    }
   ],
   "source": [
    "n_dim=X.shape[1]\n",
    "print(\"n_dim\",n_dim)"
   ]
  },
  {
   "cell_type": "code",
   "execution_count": 31,
   "metadata": {
    "collapsed": true
   },
   "outputs": [],
   "source": [
    "n_features=n_dim\n",
    "n_classes=2"
   ]
  },
  {
   "cell_type": "code",
   "execution_count": 32,
   "metadata": {
    "collapsed": true
   },
   "outputs": [],
   "source": [
    "x = tf.placeholder(tf.float32,shape=[None,n_features], name='features')\n",
    "y_ = tf.placeholder(tf.float32,shape=[None,n_classes], name='labels')"
   ]
  },
  {
   "cell_type": "code",
   "execution_count": 33,
   "metadata": {
    "collapsed": true
   },
   "outputs": [],
   "source": [
    "# Defining the model\n",
    "# Using tanh activation function in hidden layer and softmax in output layer\n",
    "# we can also use sigmoid activation in output layer\n",
    "# Defining the model\n",
    "def multilayer_perceptron(x,weights,biases):\n",
    "    \n",
    "    # First Hidden layer with tanh activation function\n",
    "    layer_1=tf.add(tf.matmul(x,weights['h1']),biases['b1'])\n",
    "    layer_1=tf.nn.tanh(layer_1)\n",
    "    \n",
    "    # Second Hidden layer with sigmoid activation function\n",
    "    layer_2=tf.add(tf.matmul(layer_1,weights['h2']),biases['b2'])\n",
    "    layer_2=tf.nn.sigmoid(layer_2)\n",
    "    \n",
    "    # Output layer with Softmax activation\n",
    "    out_layer=tf.add(tf.matmul(layer_2,weights['out']),biases['out'])\n",
    "    #out_layer=tf.nn.softmax(out_layer)\n",
    "    return out_layer"
   ]
  },
  {
   "cell_type": "code",
   "execution_count": 34,
   "metadata": {
    "collapsed": true
   },
   "outputs": [],
   "source": [
    "# Defining weights and bias for each layer\n",
    "weights={\n",
    "    'h1':tf.Variable(tf.truncated_normal([n_features, n_neurons_in_h1]), name='weights1'),\n",
    "    'h2':tf.Variable(tf.random_normal([n_neurons_in_h1, n_neurons_in_h2]),name='weights2'),\n",
    "    'out':tf.Variable(tf.random_normal([n_neurons_in_h2, n_classes]), name='weightsOut')\n",
    "}"
   ]
  },
  {
   "cell_type": "code",
   "execution_count": 35,
   "metadata": {
    "collapsed": true
   },
   "outputs": [],
   "source": [
    "biases={\n",
    "    'b1': tf.Variable(tf.truncated_normal([n_neurons_in_h1]), name='biases1'),\n",
    "    'b2': tf.Variable(tf.random_normal([n_neurons_in_h2]),name='biases2'),\n",
    "    'out':tf.Variable(tf.random_normal([n_classes]), name='biasesOut')\n",
    "\n",
    "}"
   ]
  },
  {
   "cell_type": "code",
   "execution_count": 36,
   "metadata": {
    "collapsed": false
   },
   "outputs": [],
   "source": [
    "# Calling a model\n",
    "y=multilayer_perceptron(x,weights,biases)"
   ]
  },
  {
   "cell_type": "code",
   "execution_count": 37,
   "metadata": {
    "collapsed": false
   },
   "outputs": [],
   "source": [
    "#cost function\n",
    "cross_entropy_loss = tf.reduce_mean(tf.nn.softmax_cross_entropy_with_logits_v2(logits=y,labels=y_))\n",
    "#optimizer\n",
    "train_step = tf.train.GradientDescentOptimizer(learning_rate).minimize(cross_entropy_loss)"
   ]
  },
  {
   "cell_type": "code",
   "execution_count": 38,
   "metadata": {
    "collapsed": false
   },
   "outputs": [
    {
     "name": "stdout",
     "output_type": "stream",
     "text": [
      "epoch: 0 - cost: 0.56925327 - Train Accuracy: 0.62857145\n",
      "epoch: 1 - cost: 0.5671864 - Train Accuracy: 0.62857145\n",
      "epoch: 2 - cost: 0.56623125 - Train Accuracy: 0.62857145\n",
      "epoch: 3 - cost: 0.56555 - Train Accuracy: 0.62857145\n",
      "epoch: 4 - cost: 0.5649033 - Train Accuracy: 0.62857145\n",
      "epoch: 5 - cost: 0.5642329 - Train Accuracy: 0.62857145\n",
      "epoch: 6 - cost: 0.56346744 - Train Accuracy: 0.62857145\n",
      "epoch: 7 - cost: 0.56248665 - Train Accuracy: 0.62857145\n",
      "epoch: 8 - cost: 0.560604 - Train Accuracy: 0.62857145\n",
      "epoch: 9 - cost: 0.55827343 - Train Accuracy: 0.62857145\n",
      "epoch: 10 - cost: 0.55677265 - Train Accuracy: 0.62857145\n",
      "epoch: 11 - cost: 0.55553067 - Train Accuracy: 0.62857145\n",
      "epoch: 12 - cost: 0.5550044 - Train Accuracy: 0.62857145\n",
      "epoch: 13 - cost: 0.554496 - Train Accuracy: 0.62857145\n",
      "epoch: 14 - cost: 0.5539924 - Train Accuracy: 0.62857145\n",
      "epoch: 15 - cost: 0.5534897 - Train Accuracy: 0.62857145\n",
      "epoch: 16 - cost: 0.5529851 - Train Accuracy: 0.62857145\n",
      "epoch: 17 - cost: 0.55247504 - Train Accuracy: 0.62857145\n",
      "epoch: 18 - cost: 0.55195236 - Train Accuracy: 0.62857145\n",
      "epoch: 19 - cost: 0.55139166 - Train Accuracy: 0.62857145\n",
      "epoch: 20 - cost: 0.5505319 - Train Accuracy: 0.62857145\n",
      "epoch: 21 - cost: 0.54734284 - Train Accuracy: 0.62857145\n",
      "epoch: 22 - cost: 0.5459242 - Train Accuracy: 0.62857145\n",
      "epoch: 23 - cost: 0.5453378 - Train Accuracy: 0.62857145\n",
      "epoch: 24 - cost: 0.5448071 - Train Accuracy: 0.62857145\n",
      "epoch: 25 - cost: 0.54425704 - Train Accuracy: 0.62857145\n",
      "epoch: 26 - cost: 0.54359674 - Train Accuracy: 0.62857145\n",
      "epoch: 27 - cost: 0.5424301 - Train Accuracy: 0.62857145\n",
      "epoch: 28 - cost: 0.54121286 - Train Accuracy: 0.62857145\n",
      "epoch: 29 - cost: 0.5405833 - Train Accuracy: 0.62857145\n",
      "epoch: 30 - cost: 0.54002863 - Train Accuracy: 0.62857145\n",
      "epoch: 31 - cost: 0.5394813 - Train Accuracy: 0.62857145\n",
      "epoch: 32 - cost: 0.53893703 - Train Accuracy: 0.62857145\n",
      "epoch: 33 - cost: 0.53839016 - Train Accuracy: 0.62857145\n",
      "epoch: 34 - cost: 0.537804 - Train Accuracy: 0.62857145\n",
      "epoch: 35 - cost: 0.5369804 - Train Accuracy: 0.62857145\n",
      "epoch: 36 - cost: 0.5364566 - Train Accuracy: 0.62857145\n",
      "epoch: 37 - cost: 0.53595626 - Train Accuracy: 0.62857145\n",
      "epoch: 38 - cost: 0.5354613 - Train Accuracy: 0.62857145\n",
      "epoch: 39 - cost: 0.5349688 - Train Accuracy: 0.62857145\n",
      "epoch: 40 - cost: 0.5344777 - Train Accuracy: 0.62857145\n",
      "epoch: 41 - cost: 0.5339873 - Train Accuracy: 0.62857145\n",
      "epoch: 42 - cost: 0.53349715 - Train Accuracy: 0.62857145\n",
      "epoch: 43 - cost: 0.5330068 - Train Accuracy: 0.62857145\n",
      "epoch: 44 - cost: 0.5325155 - Train Accuracy: 0.62857145\n",
      "epoch: 45 - cost: 0.53202194 - Train Accuracy: 0.62857145\n",
      "epoch: 46 - cost: 0.5315226 - Train Accuracy: 0.62857145\n",
      "epoch: 47 - cost: 0.5310034 - Train Accuracy: 0.62857145\n",
      "epoch: 48 - cost: 0.5303706 - Train Accuracy: 0.62857145\n",
      "epoch: 49 - cost: 0.5295706 - Train Accuracy: 0.62857145\n",
      "epoch: 50 - cost: 0.5284639 - Train Accuracy: 0.62857145\n",
      "epoch: 51 - cost: 0.52791536 - Train Accuracy: 0.62857145\n",
      "epoch: 52 - cost: 0.5273806 - Train Accuracy: 0.62857145\n",
      "epoch: 53 - cost: 0.52684873 - Train Accuracy: 0.62857145\n",
      "epoch: 54 - cost: 0.52629954 - Train Accuracy: 0.62857145\n",
      "epoch: 55 - cost: 0.52560323 - Train Accuracy: 0.62857145\n",
      "epoch: 56 - cost: 0.52477604 - Train Accuracy: 0.62857145\n",
      "epoch: 57 - cost: 0.5239132 - Train Accuracy: 0.62857145\n",
      "epoch: 58 - cost: 0.5214261 - Train Accuracy: 0.62857145\n",
      "epoch: 59 - cost: 0.5195846 - Train Accuracy: 0.62857145\n",
      "epoch: 60 - cost: 0.51908183 - Train Accuracy: 0.62857145\n",
      "epoch: 61 - cost: 0.5185787 - Train Accuracy: 0.62857145\n",
      "epoch: 62 - cost: 0.51807404 - Train Accuracy: 0.62857145\n",
      "epoch: 63 - cost: 0.5175665 - Train Accuracy: 0.62857145\n",
      "epoch: 64 - cost: 0.5170527 - Train Accuracy: 0.62857145\n",
      "epoch: 65 - cost: 0.5165267 - Train Accuracy: 0.62857145\n",
      "epoch: 66 - cost: 0.5159586 - Train Accuracy: 0.62857145\n",
      "epoch: 67 - cost: 0.51510084 - Train Accuracy: 0.62857145\n",
      "epoch: 68 - cost: 0.5146065 - Train Accuracy: 0.62857145\n",
      "epoch: 69 - cost: 0.51411176 - Train Accuracy: 0.62857145\n",
      "epoch: 70 - cost: 0.5136167 - Train Accuracy: 0.62857145\n",
      "epoch: 71 - cost: 0.513121 - Train Accuracy: 0.62857145\n",
      "epoch: 72 - cost: 0.51262444 - Train Accuracy: 0.62857145\n",
      "epoch: 73 - cost: 0.512126 - Train Accuracy: 0.62857145\n",
      "epoch: 74 - cost: 0.511625 - Train Accuracy: 0.62857145\n",
      "epoch: 75 - cost: 0.5111185 - Train Accuracy: 0.62857145\n",
      "epoch: 76 - cost: 0.5105999 - Train Accuracy: 0.62857145\n",
      "epoch: 77 - cost: 0.51005137 - Train Accuracy: 0.62857145\n",
      "epoch: 78 - cost: 0.5094255 - Train Accuracy: 0.62857145\n",
      "epoch: 79 - cost: 0.5087311 - Train Accuracy: 0.62857145\n",
      "epoch: 80 - cost: 0.5081661 - Train Accuracy: 0.62857145\n",
      "epoch: 81 - cost: 0.5076577 - Train Accuracy: 0.62857145\n",
      "epoch: 82 - cost: 0.5071568 - Train Accuracy: 0.62857145\n",
      "epoch: 83 - cost: 0.50665855 - Train Accuracy: 0.62857145\n",
      "epoch: 84 - cost: 0.5061615 - Train Accuracy: 0.62857145\n",
      "epoch: 85 - cost: 0.50566536 - Train Accuracy: 0.62857145\n",
      "epoch: 86 - cost: 0.5051696 - Train Accuracy: 0.62857145\n",
      "epoch: 87 - cost: 0.50467414 - Train Accuracy: 0.62857145\n",
      "epoch: 88 - cost: 0.5041788 - Train Accuracy: 0.62857145\n",
      "epoch: 89 - cost: 0.5036837 - Train Accuracy: 0.62857145\n",
      "epoch: 90 - cost: 0.5031886 - Train Accuracy: 0.62857145\n",
      "epoch: 91 - cost: 0.50269365 - Train Accuracy: 0.62857145\n",
      "epoch: 92 - cost: 0.5021986 - Train Accuracy: 0.62857145\n",
      "epoch: 93 - cost: 0.50170374 - Train Accuracy: 0.62857145\n",
      "epoch: 94 - cost: 0.50120884 - Train Accuracy: 0.62857145\n",
      "epoch: 95 - cost: 0.500714 - Train Accuracy: 0.62857145\n",
      "epoch: 96 - cost: 0.50021935 - Train Accuracy: 0.62857145\n",
      "epoch: 97 - cost: 0.49972457 - Train Accuracy: 0.62857145\n",
      "epoch: 98 - cost: 0.4992301 - Train Accuracy: 0.62857145\n",
      "epoch: 99 - cost: 0.4987357 - Train Accuracy: 0.62857145\n",
      "epoch: 100 - cost: 0.4982414 - Train Accuracy: 0.62857145\n",
      "epoch: 101 - cost: 0.49774733 - Train Accuracy: 0.62857145\n",
      "epoch: 102 - cost: 0.49725348 - Train Accuracy: 0.62857145\n",
      "epoch: 103 - cost: 0.4967598 - Train Accuracy: 0.62857145\n",
      "epoch: 104 - cost: 0.49626637 - Train Accuracy: 0.62857145\n",
      "epoch: 105 - cost: 0.49577323 - Train Accuracy: 0.62857145\n",
      "epoch: 106 - cost: 0.49528015 - Train Accuracy: 0.62857145\n",
      "epoch: 107 - cost: 0.4947874 - Train Accuracy: 0.62857145\n",
      "epoch: 108 - cost: 0.4942948 - Train Accuracy: 0.62857145\n",
      "epoch: 109 - cost: 0.49380237 - Train Accuracy: 0.62857145\n",
      "epoch: 110 - cost: 0.49331015 - Train Accuracy: 0.62857145\n",
      "epoch: 111 - cost: 0.49281818 - Train Accuracy: 0.62857145\n",
      "epoch: 112 - cost: 0.49232623 - Train Accuracy: 0.62857145\n",
      "epoch: 113 - cost: 0.49183452 - Train Accuracy: 0.62857145\n",
      "epoch: 114 - cost: 0.49134284 - Train Accuracy: 0.62857145\n",
      "epoch: 115 - cost: 0.49085125 - Train Accuracy: 0.62857145\n",
      "epoch: 116 - cost: 0.49035987 - Train Accuracy: 0.62857145\n",
      "epoch: 117 - cost: 0.48986846 - Train Accuracy: 0.62857145\n",
      "epoch: 118 - cost: 0.48937714 - Train Accuracy: 0.62857145\n",
      "epoch: 119 - cost: 0.48888576 - Train Accuracy: 0.62857145\n",
      "epoch: 120 - cost: 0.48839438 - Train Accuracy: 0.62857145\n",
      "epoch: 121 - cost: 0.48790297 - Train Accuracy: 0.62857145\n",
      "epoch: 122 - cost: 0.4874114 - Train Accuracy: 0.62857145\n",
      "epoch: 123 - cost: 0.48691985 - Train Accuracy: 0.62857145\n",
      "epoch: 124 - cost: 0.48642814 - Train Accuracy: 0.62857145\n",
      "epoch: 125 - cost: 0.48593614 - Train Accuracy: 0.62857145\n",
      "epoch: 126 - cost: 0.48544398 - Train Accuracy: 0.62857145\n",
      "epoch: 127 - cost: 0.48495167 - Train Accuracy: 0.62857145\n",
      "epoch: 128 - cost: 0.4844591 - Train Accuracy: 0.62857145\n",
      "epoch: 129 - cost: 0.48396644 - Train Accuracy: 0.62857145\n",
      "epoch: 130 - cost: 0.4834734 - Train Accuracy: 0.62857145\n",
      "epoch: 131 - cost: 0.48298046 - Train Accuracy: 0.62857145\n",
      "epoch: 132 - cost: 0.48248738 - Train Accuracy: 0.62857145\n",
      "epoch: 133 - cost: 0.48199445 - Train Accuracy: 0.62857145\n",
      "epoch: 134 - cost: 0.48150185 - Train Accuracy: 0.62857145\n",
      "epoch: 135 - cost: 0.48100954 - Train Accuracy: 0.62857145\n",
      "epoch: 136 - cost: 0.48051775 - Train Accuracy: 0.62857145\n",
      "epoch: 137 - cost: 0.48002633 - Train Accuracy: 0.62857145\n",
      "epoch: 138 - cost: 0.47953555 - Train Accuracy: 0.62857145\n",
      "epoch: 139 - cost: 0.47904533 - Train Accuracy: 0.62857145\n",
      "epoch: 140 - cost: 0.4785557 - Train Accuracy: 0.62857145\n",
      "epoch: 141 - cost: 0.47806665 - Train Accuracy: 0.62857145\n",
      "epoch: 142 - cost: 0.47757792 - Train Accuracy: 0.62857145\n",
      "epoch: 143 - cost: 0.47708982 - Train Accuracy: 0.62857145\n",
      "epoch: 144 - cost: 0.4766021 - Train Accuracy: 0.62857145\n",
      "epoch: 145 - cost: 0.47611484 - Train Accuracy: 0.62857145\n",
      "epoch: 146 - cost: 0.47562793 - Train Accuracy: 0.62857145\n",
      "epoch: 147 - cost: 0.4751413 - Train Accuracy: 0.62857145\n",
      "epoch: 148 - cost: 0.4746549 - Train Accuracy: 0.62857145\n",
      "epoch: 149 - cost: 0.47416884 - Train Accuracy: 0.62857145\n",
      "epoch: 150 - cost: 0.47368306 - Train Accuracy: 0.62857145\n",
      "epoch: 151 - cost: 0.47319737 - Train Accuracy: 0.62857145\n",
      "epoch: 152 - cost: 0.4727119 - Train Accuracy: 0.62857145\n",
      "epoch: 153 - cost: 0.47222638 - Train Accuracy: 0.62857145\n",
      "epoch: 154 - cost: 0.47174096 - Train Accuracy: 0.62857145\n",
      "epoch: 155 - cost: 0.47125518 - Train Accuracy: 0.62857145\n",
      "epoch: 156 - cost: 0.47076914 - Train Accuracy: 0.62857145\n",
      "epoch: 157 - cost: 0.4702814 - Train Accuracy: 0.62857145\n",
      "epoch: 158 - cost: 0.46978766 - Train Accuracy: 0.62857145\n",
      "epoch: 159 - cost: 0.4692321 - Train Accuracy: 0.62857145\n",
      "epoch: 160 - cost: 0.4685156 - Train Accuracy: 0.62857145\n",
      "epoch: 161 - cost: 0.4679892 - Train Accuracy: 0.62857145\n",
      "epoch: 162 - cost: 0.46741134 - Train Accuracy: 0.62857145\n",
      "epoch: 163 - cost: 0.46657494 - Train Accuracy: 0.62857145\n",
      "epoch: 164 - cost: 0.46574134 - Train Accuracy: 0.62857145\n",
      "epoch: 165 - cost: 0.46525237 - Train Accuracy: 0.62857145\n",
      "epoch: 166 - cost: 0.46476677 - Train Accuracy: 0.62857145\n",
      "epoch: 167 - cost: 0.4642821 - Train Accuracy: 0.62857145\n",
      "epoch: 168 - cost: 0.4637979 - Train Accuracy: 0.62857145\n",
      "epoch: 169 - cost: 0.46331394 - Train Accuracy: 0.62857145\n",
      "epoch: 170 - cost: 0.4628303 - Train Accuracy: 0.62857145\n",
      "epoch: 171 - cost: 0.46234694 - Train Accuracy: 0.62857145\n",
      "epoch: 172 - cost: 0.4618638 - Train Accuracy: 0.62857145\n",
      "epoch: 173 - cost: 0.46138078 - Train Accuracy: 0.62857145\n",
      "epoch: 174 - cost: 0.46089795 - Train Accuracy: 0.62857145\n",
      "epoch: 175 - cost: 0.46041542 - Train Accuracy: 0.62857145\n",
      "epoch: 176 - cost: 0.45993304 - Train Accuracy: 0.62857145\n",
      "epoch: 177 - cost: 0.45945078 - Train Accuracy: 0.62857145\n",
      "epoch: 178 - cost: 0.45896876 - Train Accuracy: 0.62857145\n",
      "epoch: 179 - cost: 0.45848694 - Train Accuracy: 0.62857145\n",
      "epoch: 180 - cost: 0.4580052 - Train Accuracy: 0.62857145\n",
      "epoch: 181 - cost: 0.45752373 - Train Accuracy: 0.62857145\n",
      "epoch: 182 - cost: 0.45704234 - Train Accuracy: 0.62857145\n",
      "epoch: 183 - cost: 0.45656127 - Train Accuracy: 0.62857145\n",
      "epoch: 184 - cost: 0.45608032 - Train Accuracy: 0.62857145\n",
      "epoch: 185 - cost: 0.4555996 - Train Accuracy: 0.62857145\n",
      "epoch: 186 - cost: 0.455119 - Train Accuracy: 0.62857145\n",
      "epoch: 187 - cost: 0.45463857 - Train Accuracy: 0.62857145\n",
      "epoch: 188 - cost: 0.4541584 - Train Accuracy: 0.62857145\n",
      "epoch: 189 - cost: 0.45367837 - Train Accuracy: 0.62857145\n",
      "epoch: 190 - cost: 0.45319858 - Train Accuracy: 0.62857145\n",
      "epoch: 191 - cost: 0.45271897 - Train Accuracy: 0.62857145\n",
      "epoch: 192 - cost: 0.45223954 - Train Accuracy: 0.62857145\n",
      "epoch: 193 - cost: 0.45176023 - Train Accuracy: 0.62857145\n",
      "epoch: 194 - cost: 0.45128113 - Train Accuracy: 0.62857145\n",
      "epoch: 195 - cost: 0.45080236 - Train Accuracy: 0.62857145\n",
      "epoch: 196 - cost: 0.45032364 - Train Accuracy: 0.62857145\n",
      "epoch: 197 - cost: 0.4498452 - Train Accuracy: 0.62857145\n"
     ]
    },
    {
     "ename": "KeyboardInterrupt",
     "evalue": "",
     "output_type": "error",
     "traceback": [
      "\u001b[0;31m---------------------------------------------------------------------------\u001b[0m",
      "\u001b[0;31mKeyboardInterrupt\u001b[0m                         Traceback (most recent call last)",
      "\u001b[0;32m<ipython-input-38-774f18ff78dd>\u001b[0m in \u001b[0;36m<module>\u001b[0;34m()\u001b[0m\n\u001b[1;32m     21\u001b[0m         \u001b[0mpred_y\u001b[0m\u001b[1;33m=\u001b[0m\u001b[0msess\u001b[0m\u001b[1;33m.\u001b[0m\u001b[0mrun\u001b[0m\u001b[1;33m(\u001b[0m\u001b[0my\u001b[0m\u001b[1;33m,\u001b[0m\u001b[0mfeed_dict\u001b[0m\u001b[1;33m=\u001b[0m\u001b[1;33m{\u001b[0m\u001b[0mx\u001b[0m\u001b[1;33m:\u001b[0m\u001b[0mX_test\u001b[0m\u001b[1;33m}\u001b[0m\u001b[1;33m)\u001b[0m\u001b[1;33m\u001b[0m\u001b[0m\n\u001b[1;32m     22\u001b[0m         \u001b[0mmse\u001b[0m\u001b[1;33m=\u001b[0m\u001b[0mtf\u001b[0m\u001b[1;33m.\u001b[0m\u001b[0mreduce_mean\u001b[0m\u001b[1;33m(\u001b[0m\u001b[0mtf\u001b[0m\u001b[1;33m.\u001b[0m\u001b[0msquare\u001b[0m\u001b[1;33m(\u001b[0m\u001b[0mpred_y\u001b[0m\u001b[1;33m-\u001b[0m\u001b[0my_test\u001b[0m\u001b[1;33m)\u001b[0m\u001b[1;33m)\u001b[0m\u001b[1;33m\u001b[0m\u001b[0m\n\u001b[0;32m---> 23\u001b[0;31m         \u001b[0mmse_\u001b[0m\u001b[1;33m=\u001b[0m\u001b[0msess\u001b[0m\u001b[1;33m.\u001b[0m\u001b[0mrun\u001b[0m\u001b[1;33m(\u001b[0m\u001b[0mmse\u001b[0m\u001b[1;33m)\u001b[0m\u001b[1;33m\u001b[0m\u001b[0m\n\u001b[0m\u001b[1;32m     24\u001b[0m         \u001b[1;31m#mse_history.append(mse_)\u001b[0m\u001b[1;33m\u001b[0m\u001b[1;33m\u001b[0m\u001b[0m\n\u001b[1;32m     25\u001b[0m         \u001b[0maccuracy\u001b[0m\u001b[1;33m=\u001b[0m\u001b[0msess\u001b[0m\u001b[1;33m.\u001b[0m\u001b[0mrun\u001b[0m\u001b[1;33m(\u001b[0m\u001b[0maccuracy\u001b[0m\u001b[1;33m,\u001b[0m\u001b[0mfeed_dict\u001b[0m\u001b[1;33m=\u001b[0m\u001b[1;33m{\u001b[0m\u001b[0mx\u001b[0m\u001b[1;33m:\u001b[0m\u001b[0mX_train\u001b[0m\u001b[1;33m,\u001b[0m\u001b[0my_\u001b[0m\u001b[1;33m:\u001b[0m\u001b[0my_train\u001b[0m\u001b[1;33m}\u001b[0m\u001b[1;33m)\u001b[0m\u001b[1;33m\u001b[0m\u001b[0m\n",
      "\u001b[0;32mC:\\Users\\gagan\\Anaconda3\\lib\\site-packages\\tensorflow\\python\\client\\session.py\u001b[0m in \u001b[0;36mrun\u001b[0;34m(self, fetches, feed_dict, options, run_metadata)\u001b[0m\n\u001b[1;32m    903\u001b[0m     \u001b[1;32mtry\u001b[0m\u001b[1;33m:\u001b[0m\u001b[1;33m\u001b[0m\u001b[0m\n\u001b[1;32m    904\u001b[0m       result = self._run(None, fetches, feed_dict, options_ptr,\n\u001b[0;32m--> 905\u001b[0;31m                          run_metadata_ptr)\n\u001b[0m\u001b[1;32m    906\u001b[0m       \u001b[1;32mif\u001b[0m \u001b[0mrun_metadata\u001b[0m\u001b[1;33m:\u001b[0m\u001b[1;33m\u001b[0m\u001b[0m\n\u001b[1;32m    907\u001b[0m         \u001b[0mproto_data\u001b[0m \u001b[1;33m=\u001b[0m \u001b[0mtf_session\u001b[0m\u001b[1;33m.\u001b[0m\u001b[0mTF_GetBuffer\u001b[0m\u001b[1;33m(\u001b[0m\u001b[0mrun_metadata_ptr\u001b[0m\u001b[1;33m)\u001b[0m\u001b[1;33m\u001b[0m\u001b[0m\n",
      "\u001b[0;32mC:\\Users\\gagan\\Anaconda3\\lib\\site-packages\\tensorflow\\python\\client\\session.py\u001b[0m in \u001b[0;36m_run\u001b[0;34m(self, handle, fetches, feed_dict, options, run_metadata)\u001b[0m\n\u001b[1;32m   1138\u001b[0m     \u001b[1;32mif\u001b[0m \u001b[0mfinal_fetches\u001b[0m \u001b[1;32mor\u001b[0m \u001b[0mfinal_targets\u001b[0m \u001b[1;32mor\u001b[0m \u001b[1;33m(\u001b[0m\u001b[0mhandle\u001b[0m \u001b[1;32mand\u001b[0m \u001b[0mfeed_dict_tensor\u001b[0m\u001b[1;33m)\u001b[0m\u001b[1;33m:\u001b[0m\u001b[1;33m\u001b[0m\u001b[0m\n\u001b[1;32m   1139\u001b[0m       results = self._do_run(handle, final_targets, final_fetches,\n\u001b[0;32m-> 1140\u001b[0;31m                              feed_dict_tensor, options, run_metadata)\n\u001b[0m\u001b[1;32m   1141\u001b[0m     \u001b[1;32melse\u001b[0m\u001b[1;33m:\u001b[0m\u001b[1;33m\u001b[0m\u001b[0m\n\u001b[1;32m   1142\u001b[0m       \u001b[0mresults\u001b[0m \u001b[1;33m=\u001b[0m \u001b[1;33m[\u001b[0m\u001b[1;33m]\u001b[0m\u001b[1;33m\u001b[0m\u001b[0m\n",
      "\u001b[0;32mC:\\Users\\gagan\\Anaconda3\\lib\\site-packages\\tensorflow\\python\\client\\session.py\u001b[0m in \u001b[0;36m_do_run\u001b[0;34m(self, handle, target_list, fetch_list, feed_dict, options, run_metadata)\u001b[0m\n\u001b[1;32m   1319\u001b[0m     \u001b[1;32mif\u001b[0m \u001b[0mhandle\u001b[0m \u001b[1;32mis\u001b[0m \u001b[1;32mNone\u001b[0m\u001b[1;33m:\u001b[0m\u001b[1;33m\u001b[0m\u001b[0m\n\u001b[1;32m   1320\u001b[0m       return self._do_call(_run_fn, feeds, fetches, targets, options,\n\u001b[0;32m-> 1321\u001b[0;31m                            run_metadata)\n\u001b[0m\u001b[1;32m   1322\u001b[0m     \u001b[1;32melse\u001b[0m\u001b[1;33m:\u001b[0m\u001b[1;33m\u001b[0m\u001b[0m\n\u001b[1;32m   1323\u001b[0m       \u001b[1;32mreturn\u001b[0m \u001b[0mself\u001b[0m\u001b[1;33m.\u001b[0m\u001b[0m_do_call\u001b[0m\u001b[1;33m(\u001b[0m\u001b[0m_prun_fn\u001b[0m\u001b[1;33m,\u001b[0m \u001b[0mhandle\u001b[0m\u001b[1;33m,\u001b[0m \u001b[0mfeeds\u001b[0m\u001b[1;33m,\u001b[0m \u001b[0mfetches\u001b[0m\u001b[1;33m)\u001b[0m\u001b[1;33m\u001b[0m\u001b[0m\n",
      "\u001b[0;32mC:\\Users\\gagan\\Anaconda3\\lib\\site-packages\\tensorflow\\python\\client\\session.py\u001b[0m in \u001b[0;36m_do_call\u001b[0;34m(self, fn, *args)\u001b[0m\n\u001b[1;32m   1325\u001b[0m   \u001b[1;32mdef\u001b[0m \u001b[0m_do_call\u001b[0m\u001b[1;33m(\u001b[0m\u001b[0mself\u001b[0m\u001b[1;33m,\u001b[0m \u001b[0mfn\u001b[0m\u001b[1;33m,\u001b[0m \u001b[1;33m*\u001b[0m\u001b[0margs\u001b[0m\u001b[1;33m)\u001b[0m\u001b[1;33m:\u001b[0m\u001b[1;33m\u001b[0m\u001b[0m\n\u001b[1;32m   1326\u001b[0m     \u001b[1;32mtry\u001b[0m\u001b[1;33m:\u001b[0m\u001b[1;33m\u001b[0m\u001b[0m\n\u001b[0;32m-> 1327\u001b[0;31m       \u001b[1;32mreturn\u001b[0m \u001b[0mfn\u001b[0m\u001b[1;33m(\u001b[0m\u001b[1;33m*\u001b[0m\u001b[0margs\u001b[0m\u001b[1;33m)\u001b[0m\u001b[1;33m\u001b[0m\u001b[0m\n\u001b[0m\u001b[1;32m   1328\u001b[0m     \u001b[1;32mexcept\u001b[0m \u001b[0merrors\u001b[0m\u001b[1;33m.\u001b[0m\u001b[0mOpError\u001b[0m \u001b[1;32mas\u001b[0m \u001b[0me\u001b[0m\u001b[1;33m:\u001b[0m\u001b[1;33m\u001b[0m\u001b[0m\n\u001b[1;32m   1329\u001b[0m       \u001b[0mmessage\u001b[0m \u001b[1;33m=\u001b[0m \u001b[0mcompat\u001b[0m\u001b[1;33m.\u001b[0m\u001b[0mas_text\u001b[0m\u001b[1;33m(\u001b[0m\u001b[0me\u001b[0m\u001b[1;33m.\u001b[0m\u001b[0mmessage\u001b[0m\u001b[1;33m)\u001b[0m\u001b[1;33m\u001b[0m\u001b[0m\n",
      "\u001b[0;32mC:\\Users\\gagan\\Anaconda3\\lib\\site-packages\\tensorflow\\python\\client\\session.py\u001b[0m in \u001b[0;36m_run_fn\u001b[0;34m(feed_dict, fetch_list, target_list, options, run_metadata)\u001b[0m\n\u001b[1;32m   1308\u001b[0m     \u001b[1;32mdef\u001b[0m \u001b[0m_run_fn\u001b[0m\u001b[1;33m(\u001b[0m\u001b[0mfeed_dict\u001b[0m\u001b[1;33m,\u001b[0m \u001b[0mfetch_list\u001b[0m\u001b[1;33m,\u001b[0m \u001b[0mtarget_list\u001b[0m\u001b[1;33m,\u001b[0m \u001b[0moptions\u001b[0m\u001b[1;33m,\u001b[0m \u001b[0mrun_metadata\u001b[0m\u001b[1;33m)\u001b[0m\u001b[1;33m:\u001b[0m\u001b[1;33m\u001b[0m\u001b[0m\n\u001b[1;32m   1309\u001b[0m       \u001b[1;31m# Ensure any changes to the graph are reflected in the runtime.\u001b[0m\u001b[1;33m\u001b[0m\u001b[1;33m\u001b[0m\u001b[0m\n\u001b[0;32m-> 1310\u001b[0;31m       \u001b[0mself\u001b[0m\u001b[1;33m.\u001b[0m\u001b[0m_extend_graph\u001b[0m\u001b[1;33m(\u001b[0m\u001b[1;33m)\u001b[0m\u001b[1;33m\u001b[0m\u001b[0m\n\u001b[0m\u001b[1;32m   1311\u001b[0m       return self._call_tf_sessionrun(\n\u001b[1;32m   1312\u001b[0m           options, feed_dict, fetch_list, target_list, run_metadata)\n",
      "\u001b[0;32mC:\\Users\\gagan\\Anaconda3\\lib\\site-packages\\tensorflow\\python\\client\\session.py\u001b[0m in \u001b[0;36m_extend_graph\u001b[0;34m(self)\u001b[0m\n\u001b[1;32m   1356\u001b[0m           \u001b[1;32mwith\u001b[0m \u001b[0merrors\u001b[0m\u001b[1;33m.\u001b[0m\u001b[0mraise_exception_on_not_ok_status\u001b[0m\u001b[1;33m(\u001b[0m\u001b[1;33m)\u001b[0m \u001b[1;32mas\u001b[0m \u001b[0mstatus\u001b[0m\u001b[1;33m:\u001b[0m\u001b[1;33m\u001b[0m\u001b[0m\n\u001b[1;32m   1357\u001b[0m             tf_session.TF_ExtendGraph(self._session,\n\u001b[0;32m-> 1358\u001b[0;31m                                       graph_def.SerializeToString(), status)\n\u001b[0m\u001b[1;32m   1359\u001b[0m           \u001b[0mself\u001b[0m\u001b[1;33m.\u001b[0m\u001b[0m_opened\u001b[0m \u001b[1;33m=\u001b[0m \u001b[1;32mTrue\u001b[0m\u001b[1;33m\u001b[0m\u001b[0m\n\u001b[1;32m   1360\u001b[0m \u001b[1;33m\u001b[0m\u001b[0m\n",
      "\u001b[0;31mKeyboardInterrupt\u001b[0m: "
     ]
    }
   ],
   "source": [
    "# initialization of all variables\n",
    "initial = tf.global_variables_initializer()\n",
    "\n",
    "loss_trace = []\n",
    "train_acc = []\n",
    "test_acc = []\n",
    "#creating a session\n",
    "with tf.Session() as sess:\n",
    "    sess.run(initial)\n",
    "    writer = tf.summary.FileWriter('./graphs/linear_reg', sess.graph)\n",
    "\n",
    "    \n",
    "    # training loop over the number of epoches\n",
    "    for epoch in range(training_epochs):\n",
    "    \n",
    "        sess.run(train_step,feed_dict={x:X_train,y_:y_train})\n",
    "        cost=sess.run(cross_entropy_loss,feed_dict={x:X_train,y_:y_train})\n",
    "        #cost_history=np.append(cost_history,cost)\n",
    "        correct_prediction = tf.equal(tf.argmax(y, 1), tf.argmax(y_, 1))\n",
    "        accuracy = tf.reduce_mean(tf.cast(correct_prediction, tf.float32), name=\"Accuracy\")\n",
    "        pred_y=sess.run(y,feed_dict={x:X_test})\n",
    "        mse=tf.reduce_mean(tf.square(pred_y-y_test))\n",
    "        mse_=sess.run(mse)\n",
    "        #mse_history.append(mse_)\n",
    "        accuracy=sess.run(accuracy,feed_dict={x:X_train,y_:y_train})\n",
    "        #accuracy_history.append(accuracy)\n",
    "        #loss_trace.append(cost)\n",
    "        #train_acc.append(accuracy)\n",
    "        #test_acc.append(accuracy_test)\n",
    "        print('epoch:',epoch,'-','cost:',cost,'-','Train Accuracy:',accuracy)\n",
    "        \n",
    "# Plot mse and accuracy graph\n",
    "#plt.plot(mse_history,'r')\n",
    "#plt.show()\n",
    "#plt.plot(accuracy_history)\n",
    "#plt.show\n",
    "        "
   ]
  },
  {
   "cell_type": "code",
   "execution_count": null,
   "metadata": {
    "collapsed": true
   },
   "outputs": [],
   "source": []
  }
 ],
 "metadata": {
  "kernelspec": {
   "display_name": "Python 3",
   "language": "python",
   "name": "python3"
  },
  "language_info": {
   "codemirror_mode": {
    "name": "ipython",
    "version": 3
   },
   "file_extension": ".py",
   "mimetype": "text/x-python",
   "name": "python",
   "nbconvert_exporter": "python",
   "pygments_lexer": "ipython3",
   "version": "3.6.1"
  }
 },
 "nbformat": 4,
 "nbformat_minor": 2
}
